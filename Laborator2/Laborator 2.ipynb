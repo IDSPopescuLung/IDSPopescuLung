{
 "cells": [
  {
   "cell_type": "code",
   "execution_count": 51,
   "metadata": {},
   "outputs": [],
   "source": [
    "import numpy as np\n",
    "import pandas as pd\n",
    "from typing import Tuple,List\n",
    "import re\n"
   ]
  },
  {
   "cell_type": "code",
   "execution_count": 39,
   "metadata": {},
   "outputs": [
    {
     "data": {
      "text/plain": [
       "(array([1, 2, 2, 4, 5, 6]), 5)"
      ]
     },
     "execution_count": 39,
     "metadata": {},
     "output_type": "execute_result"
    }
   ],
   "source": [
    "##EX1\n",
    "def sumDifFunct(lista:np.array)->Tuple[int,int]:\n",
    "    lista.sort()\n",
    "    dif_max=lista[-1]-lista[0]\n",
    "    suma=0\n",
    "    for i in range(len(lista)):\n",
    "        suma+=lista[i]\n",
    "    return suma,dif_max\n",
    "\n",
    "x=np.array([1,4,2,5,2,6])\n",
    "sumDifFunct(x)"
   ]
  },
  {
   "cell_type": "code",
   "execution_count": 36,
   "metadata": {},
   "outputs": [
    {
     "name": "stdout",
     "output_type": "stream",
     "text": [
      "True\n"
     ]
    }
   ],
   "source": [
    "##EX2\n",
    "def comuneK(lista1: np.array, lista2: np.array, k:int) ->bool:\n",
    "   \n",
    "    return k<=len(np.intersect1d(lista1,lista2))\n",
    "\n",
    "\n",
    "x=np.array([1,2,2,4])\n",
    "y=np.array([1,2,3,4])\n",
    "k=2\n",
    "print(comuneK(x,y,k))"
   ]
  },
  {
   "cell_type": "code",
   "execution_count": 75,
   "metadata": {
    "scrolled": true
   },
   "outputs": [
    {
     "data": {
      "text/plain": [
       "([True, True, True, True, True, False], [True, True, True, True, True, True])"
      ]
     },
     "execution_count": 75,
     "metadata": {},
     "output_type": "execute_result"
    }
   ],
   "source": [
    "#3\n",
    "def verif(lista: List[str]) -> bool:\n",
    "    pattern = '[-+]?[0-9]*\\.?[0-9]+'\n",
    "    \n",
    "    final = [False for i in range(len(lista))]\n",
    "    is_string = [False for i in range(len(lista))]\n",
    "    \n",
    "    for i in range(len(lista)):\n",
    "        if isinstance(lista[i],str):\n",
    "            is_string[i] = True\n",
    "            if re.fullmatch(pattern,lista[i]) != None:\n",
    "                final[i] = True\n",
    "    return final,is_string\n",
    "\n",
    "lista = ['1','2','3','4','3.5','1a']\n",
    "\n",
    "verif(lista)"
   ]
  },
  {
   "cell_type": "code",
   "execution_count": null,
   "metadata": {},
   "outputs": [],
   "source": []
  },
  {
   "cell_type": "code",
   "execution_count": null,
   "metadata": {},
   "outputs": [],
   "source": []
  }
 ],
 "metadata": {
  "kernelspec": {
   "display_name": "Python 3",
   "language": "python",
   "name": "python3"
  },
  "language_info": {
   "codemirror_mode": {
    "name": "ipython",
    "version": 3
   },
   "file_extension": ".py",
   "mimetype": "text/x-python",
   "name": "python",
   "nbconvert_exporter": "python",
   "pygments_lexer": "ipython3",
   "version": "3.7.6"
  }
 },
 "nbformat": 4,
 "nbformat_minor": 4
}
