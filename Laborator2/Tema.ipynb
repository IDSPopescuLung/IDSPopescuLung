{
 "cells": [
  {
   "cell_type": "code",
   "execution_count": 2,
   "metadata": {},
   "outputs": [],
   "source": [
    "import numpy as np\n",
    "import pandas as pd\n",
    "from typing import Tuple,List\n",
    "from collections import Counter\n",
    "import re\n",
    "from typing import Union"
   ]
  },
  {
   "cell_type": "code",
   "execution_count": 3,
   "metadata": {},
   "outputs": [
    {
     "name": "stdout",
     "output_type": "stream",
     "text": [
      "[ 5  3  2  1 -3 -4]\n"
     ]
    }
   ],
   "source": [
    "##Ex 1\n",
    "def checkDescending(list:np.array)->np.array:\n",
    "    listDescending=list!=np.flip(np.sort(list))\n",
    "    x=np.where(listDescending==False)\n",
    "    newList=list[x[0][0]+1:x[0][1]+1]\n",
    "    return newList\n",
    "list=np.array([-4,3,5,3,2,1,-3,-4,-5,-4])\n",
    "print(checkDescending(list))"
   ]
  },
  {
   "cell_type": "code",
   "execution_count": 8,
   "metadata": {},
   "outputs": [
    {
     "name": "stdout",
     "output_type": "stream",
     "text": [
      "Counter({-4: 3, 3: 2, 5: 1, 2: 1, 1: 1, -3: 1, -5: 1})\n",
      "[(-4, 3), (3, 2), (5, 1), (2, 1), (1, 1), (-3, 1), (-5, 1)]\n",
      "(-4, -5)\n"
     ]
    }
   ],
   "source": [
    "##Ex2\n",
    "def minMax(list:np.array)->np.array:\n",
    "    aux=Counter(list)\n",
    "    print(aux)\n",
    "    listSorted=aux.most_common()\n",
    "    print(listSorted)\n",
    "    mostCommon=listSorted[0][0]\n",
    "    lesscommon=listSorted[-1][0]\n",
    "    return mostCommon,lesscommon\n",
    "    \n",
    "list=np.array([-4,3,5,3,2,1,-3,-4,-5,-4])\n",
    "print(minMax(list))"
   ]
  },
  {
   "cell_type": "code",
   "execution_count": 4,
   "metadata": {},
   "outputs": [
    {
     "name": "stdout",
     "output_type": "stream",
     "text": [
      "(array([ 3, 10,  3,  4]), array([ 1, -4,  3]))\n"
     ]
    }
   ],
   "source": [
    "##Ex3\n",
    "def minMaxMat(mat:np.array)->Tuple[int,int]:\n",
    "    col=mat.max(axis=0)\n",
    "    row=mat.min(axis=1)\n",
    "    return col,row\n",
    "\n",
    "mat = np.array([[1, 2, 3, 4],\n",
    "                [1, -2, 3, -4],\n",
    "                [3, 10, 3, 4]])\n",
    "print(minMaxMat(mat))"
   ]
  },
  {
   "cell_type": "code",
   "execution_count": 5,
   "metadata": {},
   "outputs": [
    {
     "name": "stdout",
     "output_type": "stream",
     "text": [
      "Enter your choice:(must be 0/1): \n"
     ]
    },
    {
     "ename": "ValueError",
     "evalue": "invalid literal for int() with base 10: ''",
     "output_type": "error",
     "traceback": [
      "\u001b[1;31m---------------------------------------------------------------------------\u001b[0m",
      "\u001b[1;31mValueError\u001b[0m                                Traceback (most recent call last)",
      "\u001b[1;32m<ipython-input-5-5f3a29bca950>\u001b[0m in \u001b[0;36m<module>\u001b[1;34m\u001b[0m\n\u001b[0;32m      8\u001b[0m                 \u001b[1;33m[\u001b[0m\u001b[1;36m1\u001b[0m\u001b[1;33m,\u001b[0m \u001b[1;33m-\u001b[0m\u001b[1;36m2\u001b[0m\u001b[1;33m,\u001b[0m \u001b[1;36m3\u001b[0m\u001b[1;33m,\u001b[0m \u001b[1;33m-\u001b[0m\u001b[1;36m4\u001b[0m\u001b[1;33m]\u001b[0m\u001b[1;33m,\u001b[0m\u001b[1;33m\u001b[0m\u001b[1;33m\u001b[0m\u001b[0m\n\u001b[0;32m      9\u001b[0m                 [3, 10, 3, 4]])\n\u001b[1;32m---> 10\u001b[1;33m \u001b[0mprint\u001b[0m\u001b[1;33m(\u001b[0m\u001b[0mprodMat\u001b[0m\u001b[1;33m(\u001b[0m\u001b[0mmat\u001b[0m\u001b[1;33m)\u001b[0m\u001b[1;33m)\u001b[0m\u001b[1;33m\u001b[0m\u001b[1;33m\u001b[0m\u001b[0m\n\u001b[0m",
      "\u001b[1;32m<ipython-input-5-5f3a29bca950>\u001b[0m in \u001b[0;36mprodMat\u001b[1;34m(mat)\u001b[0m\n\u001b[0;32m      1\u001b[0m \u001b[1;31m##Ex4\u001b[0m\u001b[1;33m\u001b[0m\u001b[1;33m\u001b[0m\u001b[1;33m\u001b[0m\u001b[0m\n\u001b[0;32m      2\u001b[0m \u001b[1;32mdef\u001b[0m \u001b[0mprodMat\u001b[0m\u001b[1;33m(\u001b[0m\u001b[0mmat\u001b[0m\u001b[1;33m:\u001b[0m\u001b[0mnp\u001b[0m\u001b[1;33m.\u001b[0m\u001b[0marray\u001b[0m\u001b[1;33m)\u001b[0m\u001b[1;33m->\u001b[0m\u001b[0mnp\u001b[0m\u001b[1;33m.\u001b[0m\u001b[0marray\u001b[0m\u001b[1;33m:\u001b[0m\u001b[1;33m\u001b[0m\u001b[1;33m\u001b[0m\u001b[0m\n\u001b[1;32m----> 3\u001b[1;33m     \u001b[0mcomputeOnLine\u001b[0m\u001b[1;33m=\u001b[0m\u001b[0mint\u001b[0m\u001b[1;33m(\u001b[0m\u001b[0minput\u001b[0m\u001b[1;33m(\u001b[0m\u001b[1;34m\"Enter your choice:(must be 0/1): \"\u001b[0m\u001b[1;33m)\u001b[0m\u001b[1;33m)\u001b[0m\u001b[1;33m\u001b[0m\u001b[1;33m\u001b[0m\u001b[0m\n\u001b[0m\u001b[0;32m      4\u001b[0m     \u001b[0mrow\u001b[0m\u001b[1;33m=\u001b[0m\u001b[0mnp\u001b[0m\u001b[1;33m.\u001b[0m\u001b[0mprod\u001b[0m\u001b[1;33m(\u001b[0m\u001b[0mmat\u001b[0m\u001b[1;33m,\u001b[0m\u001b[0maxis\u001b[0m\u001b[1;33m=\u001b[0m\u001b[0mcomputeOnLine\u001b[0m\u001b[1;33m)\u001b[0m\u001b[1;33m\u001b[0m\u001b[1;33m\u001b[0m\u001b[0m\n\u001b[0;32m      5\u001b[0m     \u001b[1;32mreturn\u001b[0m \u001b[0mrow\u001b[0m\u001b[1;33m\u001b[0m\u001b[1;33m\u001b[0m\u001b[0m\n",
      "\u001b[1;31mValueError\u001b[0m: invalid literal for int() with base 10: ''"
     ]
    }
   ],
   "source": [
    "##Ex4\n",
    "def prodMat(mat:np.array)->np.array:\n",
    "    computeOnLine=int(input(\"Enter your choice:(must be 0/1): \"))\n",
    "    row=np.prod(mat,axis=computeOnLine)\n",
    "    return row\n",
    "\n",
    "mat = np.array([[1, 2, 3, 4],\n",
    "                [1, -2, 3, -4],\n",
    "                [3, 10, 3, 4]])\n",
    "print(prodMat(mat))\n"
   ]
  },
  {
   "cell_type": "code",
   "execution_count": 6,
   "metadata": {},
   "outputs": [
    {
     "name": "stdout",
     "output_type": "stream",
     "text": [
      "(2, 3)\n"
     ]
    }
   ],
   "source": [
    "##Ex5\n",
    "def maxBetweenMat(matA:np.array,matB:np.array)->np.array:\n",
    "    matBool=matA==matB\n",
    "    x=np.where(matBool==False)\n",
    "    if x[0].size>0:\n",
    "        return x[0][0],x[1][0]\n",
    "    return None\n",
    "\n",
    "\n",
    "matA = np.array([[1, 2, 3, 4],\n",
    "                [1, -2, 3, -4],\n",
    "                [3, 10, 3, 4]])\n",
    "matB = np.array([[1, 2, 3, 4],\n",
    "                [1, -2, 3, -4],\n",
    "                [3, 10, 3, 5]])\n",
    "\n",
    "print(maxBetweenMat(matA,matB))"
   ]
  },
  {
   "cell_type": "code",
   "execution_count": 44,
   "metadata": {},
   "outputs": [
    {
     "name": "stdout",
     "output_type": "stream",
     "text": [
      "(array([1, 1, 2], dtype=int64), array([1, 3, 1], dtype=int64))\n"
     ]
    }
   ],
   "source": [
    "##Ex 6\n",
    "def intervalMat(mat:np.array,min:int,max:int)->Tuple[int,int]:\n",
    "    matBool= mat[:]<max\n",
    "    matBool2=mat[:]>min\n",
    "    matList=matBool & matBool2\n",
    "    x=np.where(matList==False)\n",
    "    return x\n",
    "\n",
    "matA = np.array([[1, 2, 3, 4],\n",
    "                [1, -2, 3, -4],\n",
    "                [3, 10, 3, 4]])\n",
    "print(intervalMat(matA,0,5))"
   ]
  },
  {
   "cell_type": "code",
   "execution_count": 51,
   "metadata": {},
   "outputs": [
    {
     "data": {
      "text/plain": [
       "array([160, 156, 152])"
      ]
     },
     "execution_count": 51,
     "metadata": {},
     "output_type": "execute_result"
    }
   ],
   "source": [
    "##Ex 7\n",
    "'''\n",
    "\n",
    "    The function takes one array as parameter and multiplies all elements smaller that 100 with 2, \n",
    "    until all elements are grater than 100. \n",
    "    The function returns the elements from vector that are grater that 150 and smaller than 200.\n",
    "    Parameters\n",
    "\n",
    "    arr : ndarray\n",
    "       An array repesented by numpy.ndarray.\n",
    "    Returns\n",
    "\n",
    "    np.ndarray\n",
    "        The elements from the modified array, that are grater than 150 and smaller than 200.\n",
    "'''\n",
    "def get_modified_array_elements(arr: np.ndarray) -> np.ndarray:\n",
    "    while arr[arr < 100].any():\n",
    "        arr[arr < 100] *= 2\n",
    "    return arr[np.logical_and(arr > 150, arr < 200)]\n",
    "\n",
    "a = np.array([230, 10, 284, 39, 76])\n",
    "get_modified_array_elements(a)\n",
    "\n"
   ]
  },
  {
   "cell_type": "code",
   "execution_count": 52,
   "metadata": {},
   "outputs": [
    {
     "data": {
      "text/plain": [
       "array([  4,   7,   9, 100, 300, 230,   3])"
      ]
     },
     "execution_count": 52,
     "metadata": {},
     "output_type": "execute_result"
    }
   ],
   "source": [
    "##Ex 8\n",
    "    '''\n",
    "    The function takes two arrays of the same size as parameters and returns another array containing the maximum values \n",
    "    of the two, on the corsponding positions.\n",
    "    \n",
    "    Parameters\n",
    "    ----------\n",
    "    a : ndarray\n",
    "       An array repesented by numpy.ndarray.\n",
    "    b : ndarray\n",
    "       An array repesented by numpy.ndarray.\n",
    "   \n",
    "    Returns\n",
    "    -------\n",
    "    np.ndarray\n",
    "        An array with the maximum values from the two vectors, on the coresponding positions.\n",
    "    '''\n",
    "def pair_max(a: np.ndarray, b: np.ndarray) -> np.ndarray:\n",
    "    return np.maximum(a, b)\n",
    "\n",
    "a = np.array([3, 7, 9, 13, -10, 200, 3])\n",
    "b = np.array([4, 5, -9, 100, 300, 230, 1])\n",
    "pair_max(a, b)"
   ]
  },
  {
   "cell_type": "code",
   "execution_count": 55,
   "metadata": {},
   "outputs": [
    {
     "name": "stdout",
     "output_type": "stream",
     "text": [
      "[[5.1 3.5 1.4 0.2 nan]\n",
      " [4.9 3.  1.4 0.2 nan]\n",
      " [4.7 3.2 1.3 0.2 nan]\n",
      " [4.6 3.1 1.5 0.2 nan]\n",
      " [5.  3.6 1.4 0.2 nan]\n",
      " [5.4 3.9 1.7 0.4 nan]\n",
      " [4.6 3.4 1.4 0.3 nan]\n",
      " [5.  3.4 1.5 0.2 nan]\n",
      " [4.4 2.9 1.4 0.2 nan]\n",
      " [4.9 3.1 1.5 0.1 nan]\n",
      " [5.4 3.7 1.5 0.2 nan]\n",
      " [4.8 3.4 1.6 0.2 nan]\n",
      " [4.8 3.  1.4 0.1 nan]\n",
      " [4.3 3.  1.1 0.1 nan]\n",
      " [5.8 4.  1.2 0.2 nan]\n",
      " [nan 4.4 1.5 0.4 nan]\n",
      " [nan 3.9 1.3 0.4 nan]\n",
      " [5.1 3.5 1.4 0.3 nan]\n",
      " [5.7 3.8 1.7 0.3 nan]\n",
      " [5.1 3.8 1.5 0.3 nan]\n",
      " [5.4 3.4 1.7 0.2 nan]\n",
      " [5.1 3.7 1.5 0.4 nan]\n",
      " [4.6 3.6 1.  0.2 nan]\n",
      " [5.1 3.3 1.7 0.5 nan]\n",
      " [4.8 3.4 1.9 0.2 nan]\n",
      " [5.  3.  1.6 0.2 nan]\n",
      " [5.  3.4 1.6 0.4 nan]\n",
      " [5.2 3.5 1.5 0.2 nan]\n",
      " [5.2 3.4 1.4 0.2 nan]\n",
      " [4.7 3.2 1.6 0.2 nan]\n",
      " [4.8 3.1 1.6 0.2 nan]\n",
      " [5.4 3.4 1.5 0.4 nan]\n",
      " [5.2 4.1 1.5 0.1 nan]\n",
      " [5.5 4.2 1.4 0.2 nan]\n",
      " [4.9 3.1 1.5 0.1 nan]\n",
      " [5.  3.2 1.2 0.2 nan]\n",
      " [5.5 3.5 1.3 0.2 nan]\n",
      " [4.9 3.1 1.5 0.1 nan]\n",
      " [4.4 3.  1.3 0.2 nan]\n",
      " [5.1 3.4 1.5 0.2 nan]\n",
      " [5.  3.5 1.3 0.3 nan]\n",
      " [4.5 2.3 1.3 0.3 nan]\n",
      " [4.4 3.2 1.3 0.2 nan]\n",
      " [5.  3.5 1.6 0.6 nan]\n",
      " [5.1 3.8 1.9 0.4 nan]\n",
      " [4.8 3.  1.4 0.3 nan]\n",
      " [5.1 3.8 1.6 0.2 nan]\n",
      " [4.6 3.2 1.4 0.2 nan]\n",
      " [5.3 3.7 1.5 0.2 nan]\n",
      " [5.  3.3 1.4 0.2 nan]\n",
      " [7.  3.2 4.7 1.4 nan]\n",
      " [6.4 3.2 4.5 1.5 nan]\n",
      " [6.9 3.1 4.9 1.5 nan]\n",
      " [5.5 2.3 4.  1.3 nan]\n",
      " [6.5 2.8 4.6 1.5 nan]\n",
      " [5.7 nan 4.5 1.3 nan]\n",
      " [6.3 3.3 4.7 1.6 nan]\n",
      " [4.9 2.4 3.3 1.  nan]\n",
      " [6.6 2.9 4.6 1.3 nan]\n",
      " [5.2 nan 3.9 1.4 nan]\n",
      " [5.  2.  3.5 1.  nan]\n",
      " [5.9 3.  4.2 1.5 nan]\n",
      " [6.  2.2 4.  1.  nan]\n",
      " [6.1 2.9 4.7 1.4 nan]\n",
      " [5.6 2.9 3.6 nan nan]\n",
      " [6.7 3.1 4.4 1.4 nan]\n",
      " [5.6 3.  4.5 1.5 nan]\n",
      " [5.8 2.7 4.1 1.  nan]\n",
      " [6.2 2.2 4.5 1.5 nan]\n",
      " [5.6 2.5 3.9 1.1 nan]\n",
      " [5.9 3.2 4.8 1.8 nan]\n",
      " [6.1 2.8 4.  1.3 nan]\n",
      " [6.3 2.5 4.9 1.5 nan]\n",
      " [6.1 2.8 4.7 1.2 nan]\n",
      " [6.4 2.9 4.3 1.3 nan]\n",
      " [6.6 3.  4.4 1.4 nan]\n",
      " [6.8 2.8 4.8 1.4 nan]\n",
      " [6.7 3.  5.  1.7 nan]\n",
      " [6.  2.9 4.5 1.5 nan]\n",
      " [5.7 2.6 3.5 1.  nan]\n",
      " [5.5 2.4 3.8 1.1 nan]\n",
      " [5.5 2.4 3.7 1.  nan]\n",
      " [5.8 2.7 3.9 1.2 nan]\n",
      " [6.  2.7 5.1 1.6 nan]\n",
      " [5.4 3.  4.5 1.5 nan]\n",
      " [6.  3.4 4.5 1.6 nan]\n",
      " [6.7 3.1 4.7 1.5 nan]\n",
      " [6.3 2.3 4.4 1.3 nan]\n",
      " [5.6 3.  4.1 1.3 nan]\n",
      " [5.5 2.5 4.  1.3 nan]\n",
      " [5.5 2.6 4.4 1.2 nan]\n",
      " [6.1 3.  4.6 1.4 nan]\n",
      " [nan 2.6 4.  1.2 nan]\n",
      " [5.  2.3 3.3 1.  nan]\n",
      " [5.6 2.7 4.2 1.3 nan]\n",
      " [5.7 3.  4.2 1.2 nan]\n",
      " [5.7 2.9 4.2 1.3 nan]\n",
      " [6.2 2.9 4.3 1.3 nan]\n",
      " [5.1 2.5 3.  1.1 nan]\n",
      " [5.7 2.8 4.1 1.3 nan]\n",
      " [6.3 3.3 6.  2.5 nan]\n",
      " [5.8 2.7 5.1 1.9 nan]\n",
      " [7.1 3.  5.9 2.1 nan]\n",
      " [6.3 2.9 5.6 1.8 nan]\n",
      " [6.5 3.  5.8 nan nan]\n",
      " [7.6 3.  6.6 2.1 nan]\n",
      " [4.9 2.5 4.5 1.7 nan]\n",
      " [7.3 2.9 6.3 1.8 nan]\n",
      " [6.7 2.5 5.8 1.8 nan]\n",
      " [7.2 3.6 nan 2.5 nan]\n",
      " [6.5 3.2 5.1 2.  nan]\n",
      " [6.4 2.7 5.3 1.9 nan]\n",
      " [6.8 3.  5.5 2.1 nan]\n",
      " [5.7 2.5 5.  2.  nan]\n",
      " [5.8 2.8 5.1 2.4 nan]\n",
      " [6.4 3.2 5.3 2.3 nan]\n",
      " [6.5 3.  5.5 1.8 nan]\n",
      " [7.7 3.8 6.7 2.2 nan]\n",
      " [7.7 2.6 6.9 2.3 nan]\n",
      " [6.  2.2 5.  1.5 nan]\n",
      " [6.9 3.2 nan 2.3 nan]\n",
      " [5.6 2.8 4.9 2.  nan]\n",
      " [7.7 2.8 6.7 2.  nan]\n",
      " [6.3 nan 4.9 1.8 nan]\n",
      " [6.7 3.3 5.7 2.1 nan]\n",
      " [7.2 3.2 6.  1.8 nan]\n",
      " [6.2 2.8 4.8 1.8 nan]\n",
      " [6.1 3.  4.9 1.8 nan]\n",
      " [6.4 2.8 5.6 2.1 nan]\n",
      " [7.2 3.  5.8 1.6 nan]\n",
      " [7.4 2.8 6.1 1.9 nan]\n",
      " [7.9 3.8 6.4 2.  nan]\n",
      " [6.4 2.8 5.6 2.2 nan]\n",
      " [6.3 2.8 5.1 1.5 nan]\n",
      " [6.1 2.6 5.6 1.4 nan]\n",
      " [7.7 3.  6.1 2.3 nan]\n",
      " [6.3 3.4 5.6 2.4 nan]\n",
      " [6.4 3.1 5.5 1.8 nan]\n",
      " [6.  3.  4.8 1.8 nan]\n",
      " [6.9 3.1 5.4 2.1 nan]\n",
      " [6.7 3.1 5.6 2.4 nan]\n",
      " [6.9 3.1 5.1 2.3 nan]\n",
      " [5.8 2.7 5.1 1.9 nan]\n",
      " [6.8 3.2 5.9 2.3 nan]\n",
      " [6.7 3.3 5.7 2.5 nan]\n",
      " [6.7 3.  5.2 2.3 nan]\n",
      " [6.3 2.5 5.  1.9 nan]\n",
      " [6.5 3.  5.2 2.  nan]\n",
      " [6.2 3.4 5.4 2.3 nan]\n",
      " [5.9 3.  5.1 1.8 nan]]\n"
     ]
    },
    {
     "data": {
      "text/plain": [
       "(array([  0,   1,   2,   3,   4,   5,   6,   7,   8,   9,  10,  11,  12,\n",
       "         13,  14,  15,  15,  16,  16,  17,  18,  19,  20,  21,  22,  23,\n",
       "         24,  25,  26,  27,  28,  29,  30,  31,  32,  33,  34,  35,  36,\n",
       "         37,  38,  39,  40,  41,  42,  43,  44,  45,  46,  47,  48,  49,\n",
       "         50,  51,  52,  53,  54,  55,  55,  56,  57,  58,  59,  59,  60,\n",
       "         61,  62,  63,  64,  64,  65,  66,  67,  68,  69,  70,  71,  72,\n",
       "         73,  74,  75,  76,  77,  78,  79,  80,  81,  82,  83,  84,  85,\n",
       "         86,  87,  88,  89,  90,  91,  92,  92,  93,  94,  95,  96,  97,\n",
       "         98,  99, 100, 101, 102, 103, 104, 104, 105, 106, 107, 108, 109,\n",
       "        109, 110, 111, 112, 113, 114, 115, 116, 117, 118, 119, 120, 120,\n",
       "        121, 122, 123, 123, 124, 125, 126, 127, 128, 129, 130, 131, 132,\n",
       "        133, 134, 135, 136, 137, 138, 139, 140, 141, 142, 143, 144, 145,\n",
       "        146, 147, 148, 149], dtype=int64),\n",
       " array([4, 4, 4, 4, 4, 4, 4, 4, 4, 4, 4, 4, 4, 4, 4, 0, 4, 0, 4, 4, 4, 4,\n",
       "        4, 4, 4, 4, 4, 4, 4, 4, 4, 4, 4, 4, 4, 4, 4, 4, 4, 4, 4, 4, 4, 4,\n",
       "        4, 4, 4, 4, 4, 4, 4, 4, 4, 4, 4, 4, 4, 1, 4, 4, 4, 4, 1, 4, 4, 4,\n",
       "        4, 4, 3, 4, 4, 4, 4, 4, 4, 4, 4, 4, 4, 4, 4, 4, 4, 4, 4, 4, 4, 4,\n",
       "        4, 4, 4, 4, 4, 4, 4, 4, 4, 0, 4, 4, 4, 4, 4, 4, 4, 4, 4, 4, 4, 4,\n",
       "        3, 4, 4, 4, 4, 4, 2, 4, 4, 4, 4, 4, 4, 4, 4, 4, 4, 4, 2, 4, 4, 4,\n",
       "        1, 4, 4, 4, 4, 4, 4, 4, 4, 4, 4, 4, 4, 4, 4, 4, 4, 4, 4, 4, 4, 4,\n",
       "        4, 4, 4, 4, 4, 4], dtype=int64))"
      ]
     },
     "execution_count": 55,
     "metadata": {},
     "output_type": "execute_result"
    }
   ],
   "source": [
    "##Ex8\n",
    "'''\n",
    "    The function takes a matrix as a parameter and returns the indices of the rows and columns of NaN values.  \n",
    "    Parameters\n",
    "    matrix : ndarray\n",
    "        A two-dimensional matrix represented by numpy.ndarray.\n",
    "    Return\n",
    "    tuple\n",
    "        A tuple with the indices of rows and the indices of columns.\n",
    "'''\n",
    "def get_row_col_indices(matrix: np.ndarray)->tuple:\n",
    "    return np.where(np.isnan(matrix))\n",
    "\n",
    "#input data\n",
    "matrix =np.genfromtxt('https://archive.ics.uci.edu/ml/machine-learning-databases/iris/iris.data', delimiter = ',')\n",
    "rand_rows = np.random.randint(0, 150, size = 10)\n",
    "rand_cols = np.random.randint(0, 4, size = 10)\n",
    "matrix[rand_rows, rand_cols] = np.nan\n",
    "print(matrix)\n",
    "get_row_col_indices(matrix)"
   ]
  },
  {
   "cell_type": "code",
   "execution_count": 116,
   "metadata": {},
   "outputs": [
    {
     "name": "stdout",
     "output_type": "stream",
     "text": [
      "[ 1  2 11  4  5  6  7  8  9 10]\n"
     ]
    },
    {
     "data": {
      "text/plain": [
       "(array([4, 1, 2, 5, 6]), array([3, 0, 1, 4, 5], dtype=int64))"
      ]
     },
     "execution_count": 116,
     "metadata": {},
     "output_type": "execute_result"
    }
   ],
   "source": [
    "#10\n",
    "def get_elements_and_indices(arr: np.ndarray, k: int)-> Union[tuple, str] :\n",
    "    '''\n",
    "    The function takes an array and a value k as parameters.\n",
    "    The function returns the greatest k elements from array and their indices.\n",
    "    \n",
    "    Parameters\n",
    "    ----------\n",
    "    arr : ndarray\n",
    "       An array repesented by numpy.ndarray.\n",
    "    k : int\n",
    "       Minimum size for array and the number of elements returned.\n",
    "   \n",
    "    Returns\n",
    "    -------\n",
    "    np.ndarray\n",
    "        An array containing the k gratest elements and their indices.\n",
    "    '''\n",
    "        \n",
    "    if(len(arr) >= k):\n",
    "        return arr[np.argpartition(arr, k)[:k]], np.argpartition(arr, k)[:k]\n",
    "    else:\n",
    "        return 'Size of array is too small!'\n",
    "    \n",
    "arr = np.array([1, 2, 11, 4, 5, 6, 7, 8, 9, 10])\n",
    "print(arr)\n",
    "get_elements_and_indices(arr, 5)"
   ]
  },
  {
   "cell_type": "code",
   "execution_count": null,
   "metadata": {},
   "outputs": [],
   "source": []
  }
 ],
 "metadata": {
  "kernelspec": {
   "display_name": "Python 3",
   "language": "python",
   "name": "python3"
  },
  "language_info": {
   "codemirror_mode": {
    "name": "ipython",
    "version": 3
   },
   "file_extension": ".py",
   "mimetype": "text/x-python",
   "name": "python",
   "nbconvert_exporter": "python",
   "pygments_lexer": "ipython3",
   "version": "3.7.6"
  }
 },
 "nbformat": 4,
 "nbformat_minor": 4
}
